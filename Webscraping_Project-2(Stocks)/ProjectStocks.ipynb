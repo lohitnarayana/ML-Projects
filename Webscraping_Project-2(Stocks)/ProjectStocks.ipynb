{
  "nbformat": 4,
  "nbformat_minor": 0,
  "metadata": {
    "colab": {
      "name": "ProjectStocks.ipynb",
      "provenance": [],
      "collapsed_sections": []
    },
    "kernelspec": {
      "name": "python3",
      "display_name": "Python 3"
    },
    "language_info": {
      "name": "python"
    }
  },
  "cells": [
    {
      "cell_type": "markdown",
      "metadata": {
        "id": "7YjPe0A7gV9P"
      },
      "source": [
        "# Project"
      ]
    },
    {
      "cell_type": "markdown",
      "metadata": {
        "id": "tPtfjT31gc4r"
      },
      "source": [
        "####1. The WSJ’s US Stock Market Movers website (https://www.wsj.com/market- data/stocks/us/movers) or (https://money.cnn.com/data/hotstocks/ ) tracks the most active stocks on a real time basis. You will first write Python scripts that collect the list of Most Actives tickers only from one of the above websites. Next, your programs should take these ticker symbols and build a comma separated text file (called stocks.txt) with data about each stock from the Google finance website:\n",
        "####2. https://www.google.com/finance/quote/AMD:NASDAQ which gives the quote for ticker symbol AMD as an example. The data to be collected from the Yahoo Finance site should include (Actual text as seen in the website is in brackets):\n",
        "\n"
      ]
    },
    {
      "cell_type": "code",
      "metadata": {
        "cellView": "form",
        "id": "15z6EWHGhKA8"
      },
      "source": [
        "#@title Creating the web scrapper for pulling the stocks data\n"
      ],
      "execution_count": null,
      "outputs": []
    },
    {
      "cell_type": "code",
      "metadata": {
        "id": "8aKQnsRBXa08"
      },
      "source": [
        "import requests\n",
        "from bs4 import BeautifulSoup\n",
        "  \n",
        "URL = \"https://money.cnn.com/data/hotstocks/\"\n",
        "r = requests.get(URL)\n",
        "  \n",
        "soup = BeautifulSoup(r.content, 'lxml') \n",
        "print(soup.prettify())"
      ],
      "execution_count": null,
      "outputs": []
    },
    {
      "cell_type": "code",
      "metadata": {
        "cellView": "form",
        "id": "PmNyv-NNhbuZ"
      },
      "source": [
        "#@title Finding the particular ID\n"
      ],
      "execution_count": null,
      "outputs": []
    },
    {
      "cell_type": "code",
      "metadata": {
        "id": "0jy5KA16Y9LY"
      },
      "source": [
        "table = soup.find('div', attrs = {'id':'wsod_hotStocks'}) "
      ],
      "execution_count": null,
      "outputs": []
    },
    {
      "cell_type": "code",
      "metadata": {
        "cellView": "form",
        "id": "Kp8czc7QhkwK"
      },
      "source": [
        "#@title Finding the all tables in that particular ID\n"
      ],
      "execution_count": null,
      "outputs": []
    },
    {
      "cell_type": "code",
      "metadata": {
        "id": "B3Z4v1qQY-0w"
      },
      "source": [
        "table=table.find_all('table')\n"
      ],
      "execution_count": null,
      "outputs": []
    },
    {
      "cell_type": "code",
      "metadata": {
        "colab": {
          "base_uri": "https://localhost:8080/"
        },
        "id": "kkxKnZkm52hd",
        "outputId": "d0d90e8c-5bcb-4f6a-d1f2-5b5f8b45a378"
      },
      "source": [
        "table"
      ],
      "execution_count": null,
      "outputs": [
        {
          "output_type": "execute_result",
          "data": {
            "text/plain": [
              "[<table class=\"wsod_dataTable wsod_dataTableBigAlt\">\n",
              " <tr>\n",
              " <th style=\"width: 325px;\">Company</th>\n",
              " <th class=\"wsod_aRight\" style=\"width: 65px;\">Price</th>\n",
              " <th class=\"wsod_aRight\" style=\"width: 65px;\">Change</th>\n",
              " <th class=\"wsod_aRight\" style=\"width: 65px;\">% Change</th>\n",
              " </tr>\n",
              " <tr>\n",
              " <td><a class=\"wsod_symbol\" href=\"/quote/quote.html?symb=CCL\">CCL</a> <span title=\"Carnival Corp\">Carnival Corp</span></td>\n",
              " <td class=\"wsod_aRight\"><span stream=\"last_71594\" streamfeed=\"Carnival Corp\">17.95</span></td>\n",
              " <td class=\"wsod_aRight\"><span stream=\"change_71594\" streamfeed=\"Carnival Corp\"><span class=\"negData\">-2.21</span></span></td>\n",
              " <td class=\"wsod_aRight\"><span stream=\"changePct_71594\" streamfeed=\"Carnival Corp\"><span class=\"negData\">-10.96%</span></span></td>\n",
              " </tr>\n",
              " <tr>\n",
              " <td><a class=\"wsod_symbol\" href=\"/quote/quote.html?symb=PFE\">PFE</a> <span title=\"Pfizer Inc\">Pfizer Inc</span></td>\n",
              " <td class=\"wsod_aRight\"><span stream=\"last_228045\" streamfeed=\"Pfizer Inc\">54.00</span></td>\n",
              " <td class=\"wsod_aRight\"><span stream=\"change_228045\" streamfeed=\"Pfizer Inc\"><span class=\"posData\">+3.11</span></span></td>\n",
              " <td class=\"wsod_aRight\"><span stream=\"changePct_228045\" streamfeed=\"Pfizer Inc\"><span class=\"posData\">+6.11%</span></span></td>\n",
              " </tr>\n",
              " <tr>\n",
              " <td><a class=\"wsod_symbol\" href=\"/quote/quote.html?symb=BAC\">BAC</a> <span title=\"Bank of America Corp\">Bank of America Corp</span></td>\n",
              " <td class=\"wsod_aRight\"><span stream=\"last_57009\" streamfeed=\"Bank of America Corp\">45.76</span></td>\n",
              " <td class=\"wsod_aRight\"><span stream=\"change_57009\" streamfeed=\"Bank of America Corp\"><span class=\"negData\">-1.87</span></span></td>\n",
              " <td class=\"wsod_aRight\"><span stream=\"changePct_57009\" streamfeed=\"Bank of America Corp\"><span class=\"negData\">-3.93%</span></span></td>\n",
              " </tr>\n",
              " <tr>\n",
              " <td><a class=\"wsod_symbol\" href=\"/quote/quote.html?symb=F\">F</a> <span title=\"Ford Motor Co\">Ford Motor Co</span></td>\n",
              " <td class=\"wsod_aRight\"><span stream=\"last_104092\" streamfeed=\"Ford Motor Co\">19.75</span></td>\n",
              " <td class=\"wsod_aRight\"><span stream=\"change_104092\" streamfeed=\"Ford Motor Co\"><span class=\"negData\">-0.50</span></span></td>\n",
              " <td class=\"wsod_aRight\"><span stream=\"changePct_104092\" streamfeed=\"Ford Motor Co\"><span class=\"negData\">-2.47%</span></span></td>\n",
              " </tr>\n",
              " <tr>\n",
              " <td><a class=\"wsod_symbol\" href=\"/quote/quote.html?symb=NCLH\">NCLH</a> <span title=\"Norwegian Cruise Line Holdings Ltd\">Norwegian Cruise Line Holdings Ltd</span></td>\n",
              " <td class=\"wsod_aRight\"><span stream=\"last_54140761\" streamfeed=\"Norwegian Cruise Line Holdings Ltd\">20.06</span></td>\n",
              " <td class=\"wsod_aRight\"><span stream=\"change_54140761\" streamfeed=\"Norwegian Cruise Line Holdings Ltd\"><span class=\"negData\">-2.57</span></span></td>\n",
              " <td class=\"wsod_aRight\"><span stream=\"changePct_54140761\" streamfeed=\"Norwegian Cruise Line Holdings Ltd\"><span class=\"negData\">-11.36%</span></span></td>\n",
              " </tr>\n",
              " <tr>\n",
              " <td><a class=\"wsod_symbol\" href=\"/quote/quote.html?symb=DAL\">DAL</a> <span title=\"Delta Air Lines Inc\">Delta Air Lines Inc</span></td>\n",
              " <td class=\"wsod_aRight\"><span stream=\"last_7311173\" streamfeed=\"Delta Air Lines Inc\">36.38</span></td>\n",
              " <td class=\"wsod_aRight\"><span stream=\"change_7311173\" streamfeed=\"Delta Air Lines Inc\"><span class=\"negData\">-3.31</span></span></td>\n",
              " <td class=\"wsod_aRight\"><span stream=\"changePct_7311173\" streamfeed=\"Delta Air Lines Inc\"><span class=\"negData\">-8.34%</span></span></td>\n",
              " </tr>\n",
              " <tr>\n",
              " <td><a class=\"wsod_symbol\" href=\"/quote/quote.html?symb=WFC\">WFC</a> <span title=\"Wells Fargo &amp; Co\">Wells Fargo &amp; Co</span></td>\n",
              " <td class=\"wsod_aRight\"><span stream=\"last_284853\" streamfeed=\"Wells Fargo &amp; Co\">48.43</span></td>\n",
              " <td class=\"wsod_aRight\"><span stream=\"change_284853\" streamfeed=\"Wells Fargo &amp; Co\"><span class=\"negData\">-2.88</span></span></td>\n",
              " <td class=\"wsod_aRight\"><span stream=\"changePct_284853\" streamfeed=\"Wells Fargo &amp; Co\"><span class=\"negData\">-5.61%</span></span></td>\n",
              " </tr>\n",
              " <tr>\n",
              " <td><a class=\"wsod_symbol\" href=\"/quote/quote.html?symb=T\">T</a> <span title=\"AT&amp;T Inc\">AT&amp;T Inc</span></td>\n",
              " <td class=\"wsod_aRight\"><span stream=\"last_248333\" streamfeed=\"AT&amp;T Inc\">24.22</span></td>\n",
              " <td class=\"wsod_aRight\"><span stream=\"change_248333\" streamfeed=\"AT&amp;T Inc\"><span class=\"negData\">-0.25</span></span></td>\n",
              " <td class=\"wsod_aRight\"><span stream=\"changePct_248333\" streamfeed=\"AT&amp;T Inc\"><span class=\"negData\">-1.02%</span></span></td>\n",
              " </tr>\n",
              " <tr>\n",
              " <td><a class=\"wsod_symbol\" href=\"/quote/quote.html?symb=XOM\">XOM</a> <span title=\"Exxon Mobil Corp\">Exxon Mobil Corp</span></td>\n",
              " <td class=\"wsod_aRight\"><span stream=\"last_290043\" streamfeed=\"Exxon Mobil Corp\">61.25</span></td>\n",
              " <td class=\"wsod_aRight\"><span stream=\"change_290043\" streamfeed=\"Exxon Mobil Corp\"><span class=\"negData\">-2.23</span></span></td>\n",
              " <td class=\"wsod_aRight\"><span stream=\"changePct_290043\" streamfeed=\"Exxon Mobil Corp\"><span class=\"negData\">-3.51%</span></span></td>\n",
              " </tr>\n",
              " <tr>\n",
              " <td><a class=\"wsod_symbol\" href=\"/quote/quote.html?symb=C\">C</a> <span title=\"Citigroup Inc\">Citigroup Inc</span></td>\n",
              " <td class=\"wsod_aRight\"><span stream=\"last_68598\" streamfeed=\"Citigroup Inc\">65.50</span></td>\n",
              " <td class=\"wsod_aRight\"><span stream=\"change_68598\" streamfeed=\"Citigroup Inc\"><span class=\"negData\">-1.78</span></span></td>\n",
              " <td class=\"wsod_aRight\"><span stream=\"changePct_68598\" streamfeed=\"Citigroup Inc\"><span class=\"negData\">-2.65%</span></span></td>\n",
              " </tr>\n",
              " </table>, <table class=\"wsod_dataTable wsod_dataTableBigAlt\">\n",
              " <tr>\n",
              " <th style=\"width: 325px;\">Company</th>\n",
              " <th class=\"wsod_aRight\" style=\"width: 65px;\">Price</th>\n",
              " <th class=\"wsod_aRight\" style=\"width: 65px;\">Change</th>\n",
              " <th class=\"wsod_aRight\" style=\"width: 65px;\">% Change</th>\n",
              " </tr>\n",
              " <tr>\n",
              " <td><a class=\"wsod_symbol\" href=\"/quote/quote.html?symb=PFE\">PFE</a> <span title=\"Pfizer Inc\">Pfizer Inc</span></td>\n",
              " <td class=\"wsod_aRight\"><span stream=\"last_228045\" streamfeed=\"Pfizer Inc\">54.00</span></td>\n",
              " <td class=\"wsod_aRight\"><span stream=\"change_228045\" streamfeed=\"Pfizer Inc\"><span class=\"posData\">+3.11</span></span></td>\n",
              " <td class=\"wsod_aRight\"><span stream=\"changePct_228045\" streamfeed=\"Pfizer Inc\"><span class=\"posData\">+6.11%</span></span></td>\n",
              " </tr>\n",
              " <tr>\n",
              " <td><a class=\"wsod_symbol\" href=\"/quote/quote.html?symb=CLX\">CLX</a> <span title=\"Clorox Co\">Clorox Co</span></td>\n",
              " <td class=\"wsod_aRight\"><span stream=\"last_77208\" streamfeed=\"Clorox Co\">174.21</span></td>\n",
              " <td class=\"wsod_aRight\"><span stream=\"change_77208\" streamfeed=\"Clorox Co\"><span class=\"posData\">+6.14</span></span></td>\n",
              " <td class=\"wsod_aRight\"><span stream=\"changePct_77208\" streamfeed=\"Clorox Co\"><span class=\"posData\">+3.65%</span></span></td>\n",
              " </tr>\n",
              " <tr>\n",
              " <td><a class=\"wsod_symbol\" href=\"/quote/quote.html?symb=DGX\">DGX</a> <span title=\"Quest Diagnostics Inc\">Quest Diagnostics Inc</span></td>\n",
              " <td class=\"wsod_aRight\"><span stream=\"last_89411\" streamfeed=\"Quest Diagnostics Inc\">154.95</span></td>\n",
              " <td class=\"wsod_aRight\"><span stream=\"change_89411\" streamfeed=\"Quest Diagnostics Inc\"><span class=\"posData\">+5.43</span></span></td>\n",
              " <td class=\"wsod_aRight\"><span stream=\"changePct_89411\" streamfeed=\"Quest Diagnostics Inc\"><span class=\"posData\">+3.63%</span></span></td>\n",
              " </tr>\n",
              " <tr>\n",
              " <td><a class=\"wsod_symbol\" href=\"/quote/quote.html?symb=PKI\">PKI</a> <span title=\"PerkinElmer Inc\">PerkinElmer Inc</span></td>\n",
              " <td class=\"wsod_aRight\"><span stream=\"last_229999\" streamfeed=\"PerkinElmer Inc\">183.09</span></td>\n",
              " <td class=\"wsod_aRight\"><span stream=\"change_229999\" streamfeed=\"PerkinElmer Inc\"><span class=\"posData\">+6.14</span></span></td>\n",
              " <td class=\"wsod_aRight\"><span stream=\"changePct_229999\" streamfeed=\"PerkinElmer Inc\"><span class=\"posData\">+3.47%</span></span></td>\n",
              " </tr>\n",
              " <tr>\n",
              " <td><a class=\"wsod_symbol\" href=\"/quote/quote.html?symb=DHR\">DHR</a> <span title=\"Danaher Corp\">Danaher Corp</span></td>\n",
              " <td class=\"wsod_aRight\"><span stream=\"last_89607\" streamfeed=\"Danaher Corp\">323.96</span></td>\n",
              " <td class=\"wsod_aRight\"><span stream=\"change_89607\" streamfeed=\"Danaher Corp\"><span class=\"posData\">+8.48</span></span></td>\n",
              " <td class=\"wsod_aRight\"><span stream=\"changePct_89607\" streamfeed=\"Danaher Corp\"><span class=\"posData\">+2.69%</span></span></td>\n",
              " </tr>\n",
              " <tr>\n",
              " <td><a class=\"wsod_symbol\" href=\"/quote/quote.html?symb=CTLT\">CTLT</a> <span title=\"Catalent Inc\">Catalent Inc</span></td>\n",
              " <td class=\"wsod_aRight\"><span stream=\"last_76758756\" streamfeed=\"Catalent Inc\">132.31</span></td>\n",
              " <td class=\"wsod_aRight\"><span stream=\"change_76758756\" streamfeed=\"Catalent Inc\"><span class=\"posData\">+2.72</span></span></td>\n",
              " <td class=\"wsod_aRight\"><span stream=\"changePct_76758756\" streamfeed=\"Catalent Inc\"><span class=\"posData\">+2.10%</span></span></td>\n",
              " </tr>\n",
              " <tr>\n",
              " <td><a class=\"wsod_symbol\" href=\"/quote/quote.html?symb=LH\">LH</a> <span title=\"Laboratory Corporation of America Holdings\">Laboratory Corporation of America H...</span></td>\n",
              " <td class=\"wsod_aRight\"><span stream=\"last_183244\" streamfeed=\"Laboratory Corporation of America Holdings\">289.30</span></td>\n",
              " <td class=\"wsod_aRight\"><span stream=\"change_183244\" streamfeed=\"Laboratory Corporation of America Holdings\"><span class=\"posData\">+5.57</span></span></td>\n",
              " <td class=\"wsod_aRight\"><span stream=\"changePct_183244\" streamfeed=\"Laboratory Corporation of America Holdings\"><span class=\"posData\">+1.96%</span></span></td>\n",
              " </tr>\n",
              " <tr>\n",
              " <td><a class=\"wsod_symbol\" href=\"/quote/quote.html?symb=BIO\">BIO</a> <span title=\"Bio Rad Laboratories Inc\">Bio Rad Laboratories Inc</span></td>\n",
              " <td class=\"wsod_aRight\"><span stream=\"last_61451\" streamfeed=\"Bio Rad Laboratories Inc\">750.17</span></td>\n",
              " <td class=\"wsod_aRight\"><span stream=\"change_61451\" streamfeed=\"Bio Rad Laboratories Inc\"><span class=\"posData\">+13.37</span></span></td>\n",
              " <td class=\"wsod_aRight\"><span stream=\"changePct_61451\" streamfeed=\"Bio Rad Laboratories Inc\"><span class=\"posData\">+1.81%</span></span></td>\n",
              " </tr>\n",
              " <tr>\n",
              " <td><a class=\"wsod_symbol\" href=\"/quote/quote.html?symb=KR\">KR</a> <span title=\"Kroger Co\">Kroger Co</span></td>\n",
              " <td class=\"wsod_aRight\"><span stream=\"last_179335\" streamfeed=\"Kroger Co\">43.14</span></td>\n",
              " <td class=\"wsod_aRight\"><span stream=\"change_179335\" streamfeed=\"Kroger Co\"><span class=\"posData\">+0.60</span></span></td>\n",
              " <td class=\"wsod_aRight\"><span stream=\"changePct_179335\" streamfeed=\"Kroger Co\"><span class=\"posData\">+1.41%</span></span></td>\n",
              " </tr>\n",
              " <tr>\n",
              " <td><a class=\"wsod_symbol\" href=\"/quote/quote.html?symb=WST\">WST</a> <span title=\"West Pharmaceutical Services Inc\">West Pharmaceutical Services Inc</span></td>\n",
              " <td class=\"wsod_aRight\"><span stream=\"last_287952\" streamfeed=\"West Pharmaceutical Services Inc\">438.88</span></td>\n",
              " <td class=\"wsod_aRight\"><span stream=\"change_287952\" streamfeed=\"West Pharmaceutical Services Inc\"><span class=\"posData\">+5.16</span></span></td>\n",
              " <td class=\"wsod_aRight\"><span stream=\"changePct_287952\" streamfeed=\"West Pharmaceutical Services Inc\"><span class=\"posData\">+1.19%</span></span></td>\n",
              " </tr>\n",
              " </table>, <table class=\"wsod_dataTable wsod_dataTableBigAlt\">\n",
              " <tr>\n",
              " <th style=\"width: 325px;\">Company</th>\n",
              " <th class=\"wsod_aRight\" style=\"width: 65px;\">Price</th>\n",
              " <th class=\"wsod_aRight\" style=\"width: 65px;\">Change</th>\n",
              " <th class=\"wsod_aRight\" style=\"width: 65px;\">% Change</th>\n",
              " </tr>\n",
              " <tr>\n",
              " <td><a class=\"wsod_symbol\" href=\"/quote/quote.html?symb=RCL\">RCL</a> <span title=\"Royal Caribbean Cruises Ltd\">Royal Caribbean Cruises Ltd</span></td>\n",
              " <td class=\"wsod_aRight\"><span stream=\"last_239841\" streamfeed=\"Royal Caribbean Cruises Ltd\">67.98</span></td>\n",
              " <td class=\"wsod_aRight\"><span stream=\"change_239841\" streamfeed=\"Royal Caribbean Cruises Ltd\"><span class=\"negData\">-10.36</span></span></td>\n",
              " <td class=\"wsod_aRight\"><span stream=\"changePct_239841\" streamfeed=\"Royal Caribbean Cruises Ltd\"><span class=\"negData\">-13.22%</span></span></td>\n",
              " </tr>\n",
              " <tr>\n",
              " <td><a class=\"wsod_symbol\" href=\"/quote/quote.html?symb=NCLH\">NCLH</a> <span title=\"Norwegian Cruise Line Holdings Ltd\">Norwegian Cruise Line Holdings Ltd</span></td>\n",
              " <td class=\"wsod_aRight\"><span stream=\"last_54140761\" streamfeed=\"Norwegian Cruise Line Holdings Ltd\">20.06</span></td>\n",
              " <td class=\"wsod_aRight\"><span stream=\"change_54140761\" streamfeed=\"Norwegian Cruise Line Holdings Ltd\"><span class=\"negData\">-2.57</span></span></td>\n",
              " <td class=\"wsod_aRight\"><span stream=\"changePct_54140761\" streamfeed=\"Norwegian Cruise Line Holdings Ltd\"><span class=\"negData\">-11.36%</span></span></td>\n",
              " </tr>\n",
              " <tr>\n",
              " <td><a class=\"wsod_symbol\" href=\"/quote/quote.html?symb=CCL\">CCL</a> <span title=\"Carnival Corp\">Carnival Corp</span></td>\n",
              " <td class=\"wsod_aRight\"><span stream=\"last_71594\" streamfeed=\"Carnival Corp\">17.95</span></td>\n",
              " <td class=\"wsod_aRight\"><span stream=\"change_71594\" streamfeed=\"Carnival Corp\"><span class=\"negData\">-2.21</span></span></td>\n",
              " <td class=\"wsod_aRight\"><span stream=\"changePct_71594\" streamfeed=\"Carnival Corp\"><span class=\"negData\">-10.96%</span></span></td>\n",
              " </tr>\n",
              " <tr>\n",
              " <td><a class=\"wsod_symbol\" href=\"/quote/quote.html?symb=TDG\">TDG</a> <span title=\"TransDigm Group Inc\">TransDigm Group Inc</span></td>\n",
              " <td class=\"wsod_aRight\"><span stream=\"last_4396804\" streamfeed=\"TransDigm Group Inc\">561.29</span></td>\n",
              " <td class=\"wsod_aRight\"><span stream=\"change_4396804\" streamfeed=\"TransDigm Group Inc\"><span class=\"negData\">-56.71</span></span></td>\n",
              " <td class=\"wsod_aRight\"><span stream=\"changePct_4396804\" streamfeed=\"TransDigm Group Inc\"><span class=\"negData\">-9.18%</span></span></td>\n",
              " </tr>\n",
              " <tr>\n",
              " <td><a class=\"wsod_symbol\" href=\"/quote/quote.html?symb=AXP\">AXP</a> <span title=\"American Express Co\">American Express Co</span></td>\n",
              " <td class=\"wsod_aRight\"><span stream=\"last_55991\" streamfeed=\"American Express Co\">156.82</span></td>\n",
              " <td class=\"wsod_aRight\"><span stream=\"change_55991\" streamfeed=\"American Express Co\"><span class=\"negData\">-14.79</span></span></td>\n",
              " <td class=\"wsod_aRight\"><span stream=\"changePct_55991\" streamfeed=\"American Express Co\"><span class=\"negData\">-8.62%</span></span></td>\n",
              " </tr>\n",
              " <tr>\n",
              " <td><a class=\"wsod_symbol\" href=\"/quote/quote.html?symb=DAL\">DAL</a> <span title=\"Delta Air Lines Inc\">Delta Air Lines Inc</span></td>\n",
              " <td class=\"wsod_aRight\"><span stream=\"last_7311173\" streamfeed=\"Delta Air Lines Inc\">36.38</span></td>\n",
              " <td class=\"wsod_aRight\"><span stream=\"change_7311173\" streamfeed=\"Delta Air Lines Inc\"><span class=\"negData\">-3.31</span></span></td>\n",
              " <td class=\"wsod_aRight\"><span stream=\"changePct_7311173\" streamfeed=\"Delta Air Lines Inc\"><span class=\"negData\">-8.34%</span></span></td>\n",
              " </tr>\n",
              " <tr>\n",
              " <td><a class=\"wsod_symbol\" href=\"/quote/quote.html?symb=LYV\">LYV</a> <span title=\"Live Nation Entertainment Inc\">Live Nation Entertainment Inc</span></td>\n",
              " <td class=\"wsod_aRight\"><span stream=\"last_3744685\" streamfeed=\"Live Nation Entertainment Inc\">103.53</span></td>\n",
              " <td class=\"wsod_aRight\"><span stream=\"change_3744685\" streamfeed=\"Live Nation Entertainment Inc\"><span class=\"negData\">-9.08</span></span></td>\n",
              " <td class=\"wsod_aRight\"><span stream=\"changePct_3744685\" streamfeed=\"Live Nation Entertainment Inc\"><span class=\"negData\">-8.06%</span></span></td>\n",
              " </tr>\n",
              " <tr>\n",
              " <td><a class=\"wsod_symbol\" href=\"/quote/quote.html?symb=OXY\">OXY</a> <span title=\"Occidental Petroleum Corp\">Occidental Petroleum Corp</span></td>\n",
              " <td class=\"wsod_aRight\"><span stream=\"last_224040\" streamfeed=\"Occidental Petroleum Corp\">29.70</span></td>\n",
              " <td class=\"wsod_aRight\"><span stream=\"change_224040\" streamfeed=\"Occidental Petroleum Corp\"><span class=\"negData\">-2.31</span></span></td>\n",
              " <td class=\"wsod_aRight\"><span stream=\"changePct_224040\" streamfeed=\"Occidental Petroleum Corp\"><span class=\"negData\">-7.22%</span></span></td>\n",
              " </tr>\n",
              " <tr>\n",
              " <td><a class=\"wsod_symbol\" href=\"/quote/quote.html?symb=HES\">HES</a> <span title=\"Hess Corp\">Hess Corp</span></td>\n",
              " <td class=\"wsod_aRight\"><span stream=\"last_41146\" streamfeed=\"Hess Corp\">76.04</span></td>\n",
              " <td class=\"wsod_aRight\"><span stream=\"change_41146\" streamfeed=\"Hess Corp\"><span class=\"negData\">-5.61</span></span></td>\n",
              " <td class=\"wsod_aRight\"><span stream=\"changePct_41146\" streamfeed=\"Hess Corp\"><span class=\"negData\">-6.87%</span></span></td>\n",
              " </tr>\n",
              " <tr>\n",
              " <td><a class=\"wsod_symbol\" href=\"/quote/quote.html?symb=PVH\">PVH</a> <span title=\"PVH Corp\">PVH Corp</span></td>\n",
              " <td class=\"wsod_aRight\"><span stream=\"last_236100\" streamfeed=\"PVH Corp\">110.11</span></td>\n",
              " <td class=\"wsod_aRight\"><span stream=\"change_236100\" streamfeed=\"PVH Corp\"><span class=\"negData\">-8.12</span></span></td>\n",
              " <td class=\"wsod_aRight\"><span stream=\"changePct_236100\" streamfeed=\"PVH Corp\"><span class=\"negData\">-6.87%</span></span></td>\n",
              " </tr>\n",
              " </table>]"
            ]
          },
          "metadata": {},
          "execution_count": 118
        }
      ]
    },
    {
      "cell_type": "code",
      "metadata": {
        "cellView": "form",
        "id": "4rvbgyzZh1M8"
      },
      "source": [
        "#@title Finding the table with a particular CLASS\n"
      ],
      "execution_count": null,
      "outputs": []
    },
    {
      "cell_type": "code",
      "metadata": {
        "id": "nA1F5XSv8oYE"
      },
      "source": [
        "table=soup.find('table',class_='wsod_dataTable wsod_dataTableBigAlt')"
      ],
      "execution_count": null,
      "outputs": []
    },
    {
      "cell_type": "code",
      "metadata": {
        "cellView": "form",
        "id": "z9ZBkE4lh-RE"
      },
      "source": [
        "#@title Finding all the span for Company name, ticker, price\n"
      ],
      "execution_count": null,
      "outputs": []
    },
    {
      "cell_type": "code",
      "metadata": {
        "id": "DmIeLV-Q8qnK"
      },
      "source": [
        "span=table.findAll('span')"
      ],
      "execution_count": null,
      "outputs": []
    },
    {
      "cell_type": "code",
      "metadata": {
        "colab": {
          "base_uri": "https://localhost:8080/"
        },
        "id": "_qwewd0gIveC",
        "outputId": "7373d75c-1f24-4a46-8015-e1de852bcac7"
      },
      "source": [
        "span"
      ],
      "execution_count": null,
      "outputs": [
        {
          "output_type": "execute_result",
          "data": {
            "text/plain": [
              "[<span title=\"Carnival Corp\">Carnival Corp</span>,\n",
              " <span stream=\"last_71594\" streamfeed=\"Carnival Corp\">17.95</span>,\n",
              " <span stream=\"change_71594\" streamfeed=\"Carnival Corp\"><span class=\"negData\">-2.21</span></span>,\n",
              " <span class=\"negData\">-2.21</span>,\n",
              " <span stream=\"changePct_71594\" streamfeed=\"Carnival Corp\"><span class=\"negData\">-10.96%</span></span>,\n",
              " <span class=\"negData\">-10.96%</span>,\n",
              " <span title=\"Pfizer Inc\">Pfizer Inc</span>,\n",
              " <span stream=\"last_228045\" streamfeed=\"Pfizer Inc\">54.00</span>,\n",
              " <span stream=\"change_228045\" streamfeed=\"Pfizer Inc\"><span class=\"posData\">+3.11</span></span>,\n",
              " <span class=\"posData\">+3.11</span>,\n",
              " <span stream=\"changePct_228045\" streamfeed=\"Pfizer Inc\"><span class=\"posData\">+6.11%</span></span>,\n",
              " <span class=\"posData\">+6.11%</span>,\n",
              " <span title=\"Bank of America Corp\">Bank of America Corp</span>,\n",
              " <span stream=\"last_57009\" streamfeed=\"Bank of America Corp\">45.76</span>,\n",
              " <span stream=\"change_57009\" streamfeed=\"Bank of America Corp\"><span class=\"negData\">-1.87</span></span>,\n",
              " <span class=\"negData\">-1.87</span>,\n",
              " <span stream=\"changePct_57009\" streamfeed=\"Bank of America Corp\"><span class=\"negData\">-3.93%</span></span>,\n",
              " <span class=\"negData\">-3.93%</span>,\n",
              " <span title=\"Ford Motor Co\">Ford Motor Co</span>,\n",
              " <span stream=\"last_104092\" streamfeed=\"Ford Motor Co\">19.75</span>,\n",
              " <span stream=\"change_104092\" streamfeed=\"Ford Motor Co\"><span class=\"negData\">-0.50</span></span>,\n",
              " <span class=\"negData\">-0.50</span>,\n",
              " <span stream=\"changePct_104092\" streamfeed=\"Ford Motor Co\"><span class=\"negData\">-2.47%</span></span>,\n",
              " <span class=\"negData\">-2.47%</span>,\n",
              " <span title=\"Norwegian Cruise Line Holdings Ltd\">Norwegian Cruise Line Holdings Ltd</span>,\n",
              " <span stream=\"last_54140761\" streamfeed=\"Norwegian Cruise Line Holdings Ltd\">20.06</span>,\n",
              " <span stream=\"change_54140761\" streamfeed=\"Norwegian Cruise Line Holdings Ltd\"><span class=\"negData\">-2.57</span></span>,\n",
              " <span class=\"negData\">-2.57</span>,\n",
              " <span stream=\"changePct_54140761\" streamfeed=\"Norwegian Cruise Line Holdings Ltd\"><span class=\"negData\">-11.36%</span></span>,\n",
              " <span class=\"negData\">-11.36%</span>,\n",
              " <span title=\"Delta Air Lines Inc\">Delta Air Lines Inc</span>,\n",
              " <span stream=\"last_7311173\" streamfeed=\"Delta Air Lines Inc\">36.38</span>,\n",
              " <span stream=\"change_7311173\" streamfeed=\"Delta Air Lines Inc\"><span class=\"negData\">-3.31</span></span>,\n",
              " <span class=\"negData\">-3.31</span>,\n",
              " <span stream=\"changePct_7311173\" streamfeed=\"Delta Air Lines Inc\"><span class=\"negData\">-8.34%</span></span>,\n",
              " <span class=\"negData\">-8.34%</span>,\n",
              " <span title=\"Wells Fargo &amp; Co\">Wells Fargo &amp; Co</span>,\n",
              " <span stream=\"last_284853\" streamfeed=\"Wells Fargo &amp; Co\">48.43</span>,\n",
              " <span stream=\"change_284853\" streamfeed=\"Wells Fargo &amp; Co\"><span class=\"negData\">-2.88</span></span>,\n",
              " <span class=\"negData\">-2.88</span>,\n",
              " <span stream=\"changePct_284853\" streamfeed=\"Wells Fargo &amp; Co\"><span class=\"negData\">-5.61%</span></span>,\n",
              " <span class=\"negData\">-5.61%</span>,\n",
              " <span title=\"AT&amp;T Inc\">AT&amp;T Inc</span>,\n",
              " <span stream=\"last_248333\" streamfeed=\"AT&amp;T Inc\">24.22</span>,\n",
              " <span stream=\"change_248333\" streamfeed=\"AT&amp;T Inc\"><span class=\"negData\">-0.25</span></span>,\n",
              " <span class=\"negData\">-0.25</span>,\n",
              " <span stream=\"changePct_248333\" streamfeed=\"AT&amp;T Inc\"><span class=\"negData\">-1.02%</span></span>,\n",
              " <span class=\"negData\">-1.02%</span>,\n",
              " <span title=\"Exxon Mobil Corp\">Exxon Mobil Corp</span>,\n",
              " <span stream=\"last_290043\" streamfeed=\"Exxon Mobil Corp\">61.25</span>,\n",
              " <span stream=\"change_290043\" streamfeed=\"Exxon Mobil Corp\"><span class=\"negData\">-2.23</span></span>,\n",
              " <span class=\"negData\">-2.23</span>,\n",
              " <span stream=\"changePct_290043\" streamfeed=\"Exxon Mobil Corp\"><span class=\"negData\">-3.51%</span></span>,\n",
              " <span class=\"negData\">-3.51%</span>,\n",
              " <span title=\"Citigroup Inc\">Citigroup Inc</span>,\n",
              " <span stream=\"last_68598\" streamfeed=\"Citigroup Inc\">65.50</span>,\n",
              " <span stream=\"change_68598\" streamfeed=\"Citigroup Inc\"><span class=\"negData\">-1.78</span></span>,\n",
              " <span class=\"negData\">-1.78</span>,\n",
              " <span stream=\"changePct_68598\" streamfeed=\"Citigroup Inc\"><span class=\"negData\">-2.65%</span></span>,\n",
              " <span class=\"negData\">-2.65%</span>]"
            ]
          },
          "metadata": {},
          "execution_count": 191
        }
      ]
    },
    {
      "cell_type": "code",
      "metadata": {
        "id": "ibtbBs0686aE"
      },
      "source": [
        "title=[str(span[i]) for i in range(0,60,6)]\n",
        "price=[str(span[i]) for i in range(1,60,6)]"
      ],
      "execution_count": null,
      "outputs": []
    },
    {
      "cell_type": "code",
      "metadata": {
        "colab": {
          "base_uri": "https://localhost:8080/"
        },
        "id": "pt_ASYWECmgG",
        "outputId": "09cb86e2-075c-4338-e34c-cfd5575f1677"
      },
      "source": [
        "title"
      ],
      "execution_count": null,
      "outputs": [
        {
          "output_type": "stream",
          "name": "stdout",
          "text": [
            "['Carnival Corp', 'Pfizer Inc', 'Bank of America Corp', 'Ford Motor Co', 'Norwegian Cruise Line Holdings Ltd', 'Delta Air Lines Inc', 'Wells Fargo &amp; Co', 'AT&amp;T Inc', 'Exxon Mobil Corp', 'Citigroup Inc']\n"
          ]
        }
      ]
    },
    {
      "cell_type": "code",
      "metadata": {
        "colab": {
          "base_uri": "https://localhost:8080/"
        },
        "id": "ijC8LsDOJgiS",
        "outputId": "ec72a116-808d-45e8-ffa8-9d6d1fdbf9bb"
      },
      "source": [
        "#slicing to get the needed part\n",
        "price1=[]\n",
        "for i in price:\n",
        "  a=i.split('>')\n",
        "  b=a[1].split('<')\n",
        "  print(b[0])\n",
        "  price1.append(float(b[0]))\n"
      ],
      "execution_count": null,
      "outputs": [
        {
          "output_type": "stream",
          "name": "stdout",
          "text": [
            "17.95\n",
            "54.00\n",
            "45.76\n",
            "19.75\n",
            "20.06\n",
            "36.38\n",
            "48.43\n",
            "24.22\n",
            "61.25\n",
            "65.50\n"
          ]
        }
      ]
    },
    {
      "cell_type": "code",
      "metadata": {
        "colab": {
          "base_uri": "https://localhost:8080/"
        },
        "id": "-GCayOOtKf-B",
        "outputId": "6cf2c494-5ec8-431f-dc10-38708867a4f1"
      },
      "source": [
        "# price for the respective stocks\n",
        "price1"
      ],
      "execution_count": null,
      "outputs": [
        {
          "output_type": "execute_result",
          "data": {
            "text/plain": [
              "[17.95, 54.0, 45.76, 19.75, 20.06, 36.38, 48.43, 24.22, 61.25, 65.5]"
            ]
          },
          "metadata": {},
          "execution_count": 220
        }
      ]
    },
    {
      "cell_type": "code",
      "metadata": {
        "id": "EXk2scCf6fl2"
      },
      "source": [
        "#finding all the href for tickers\n",
        "comp=table.findAll('a')"
      ],
      "execution_count": null,
      "outputs": []
    },
    {
      "cell_type": "code",
      "metadata": {
        "colab": {
          "base_uri": "https://localhost:8080/"
        },
        "id": "XM2Yd9dt8ZbD",
        "outputId": "01f31800-b1e6-4df9-ae1f-703cf33c78a8"
      },
      "source": [
        "comp"
      ],
      "execution_count": null,
      "outputs": [
        {
          "output_type": "execute_result",
          "data": {
            "text/plain": [
              "[<a class=\"wsod_symbol\" href=\"/quote/quote.html?symb=CCL\">CCL</a>,\n",
              " <a class=\"wsod_symbol\" href=\"/quote/quote.html?symb=PFE\">PFE</a>,\n",
              " <a class=\"wsod_symbol\" href=\"/quote/quote.html?symb=BAC\">BAC</a>,\n",
              " <a class=\"wsod_symbol\" href=\"/quote/quote.html?symb=F\">F</a>,\n",
              " <a class=\"wsod_symbol\" href=\"/quote/quote.html?symb=NCLH\">NCLH</a>,\n",
              " <a class=\"wsod_symbol\" href=\"/quote/quote.html?symb=DAL\">DAL</a>,\n",
              " <a class=\"wsod_symbol\" href=\"/quote/quote.html?symb=WFC\">WFC</a>,\n",
              " <a class=\"wsod_symbol\" href=\"/quote/quote.html?symb=T\">T</a>,\n",
              " <a class=\"wsod_symbol\" href=\"/quote/quote.html?symb=XOM\">XOM</a>,\n",
              " <a class=\"wsod_symbol\" href=\"/quote/quote.html?symb=C\">C</a>]"
            ]
          },
          "metadata": {},
          "execution_count": 21
        }
      ]
    },
    {
      "cell_type": "code",
      "metadata": {
        "id": "ZzQMvsDGhx-8"
      },
      "source": [
        "# storing the ticker in list\n",
        "ticket=[]\n",
        "#table class=\"wsod_dataTable wsod_dataTableBigAlt\"\n",
        "for row in comp:\n",
        "  a=str(row).split()\n",
        "  b=a[2].split('>')\n",
        "  ticket.append(b[1].split('<')[0])\n",
        "  \n",
        " \n",
        "  "
      ],
      "execution_count": null,
      "outputs": []
    },
    {
      "cell_type": "code",
      "metadata": {
        "colab": {
          "base_uri": "https://localhost:8080/"
        },
        "id": "QOfnk_ER7FYW",
        "outputId": "e68dfbc1-8d9d-47d6-a44b-5b2043f660db"
      },
      "source": [
        "#ticker stocks\n",
        "ticket"
      ],
      "execution_count": null,
      "outputs": [
        {
          "output_type": "execute_result",
          "data": {
            "text/plain": [
              "['CCL', 'PFE', 'BAC', 'F', 'NCLH', 'DAL', 'WFC', 'T', 'XOM', 'C']"
            ]
          },
          "metadata": {},
          "execution_count": 66
        }
      ]
    },
    {
      "cell_type": "code",
      "metadata": {
        "cellView": "form",
        "id": "K3o32mMQy8oF"
      },
      "source": [
        "#@title Creating a funtion for slicing\n"
      ],
      "execution_count": null,
      "outputs": []
    },
    {
      "cell_type": "code",
      "metadata": {
        "id": "GGvuzO70Dzp4"
      },
      "source": [
        "def spliter1(ro):\n",
        "  roli=[]\n",
        "  a=str(ro).split('<')\n",
        "  \n",
        "  b=a[1].split('>')\n",
        " \n",
        "  return(b[1].split('M')[0])\n",
        "  "
      ],
      "execution_count": null,
      "outputs": []
    },
    {
      "cell_type": "code",
      "metadata": {
        "colab": {
          "base_uri": "https://localhost:8080/"
        },
        "id": "Ydks3_ZWNX9M",
        "outputId": "031d49fd-57f5-42d4-db25-2094c15acc1e"
      },
      "source": [
        "# now we need to check the each ticket i google finance site\n",
        "volume=[];ratio=[]\n",
        "for i in ticket:\n",
        "  URL = \"https://www.google.com/finance/quote/\"+i+\":NYSE\"\n",
        "  r = requests.get(URL)\n",
        "  soup = BeautifulSoup(r.content, 'lxml') \n",
        "  table = soup.find('div',class_=\"eYanAe\") \n",
        "  data=table.findAll('div',class_='gyFHrc')\n",
        "  volume.append(spliter1(data[4].findAll('div',class_='P6K39c')))\n",
        "  ratio.append(spliter1(data[5].findAll('div',class_='P6K39c')))\n",
        "print(volume)\n",
        "print(ratio)\n",
        "\n"
      ],
      "execution_count": null,
      "outputs": [
        {
          "output_type": "stream",
          "name": "stdout",
          "text": [
            "['29.47', '35.73', '41.23', '102.96', '15.79', '10.88', '24.98', '43.44', '18.67', '19.31']\n",
            "['-', '16.03', '13.71', '28.02', '-', '-', '11.52', '204.32', '-', '6.31']\n"
          ]
        }
      ]
    },
    {
      "cell_type": "code",
      "metadata": {
        "cellView": "form",
        "id": "fNESWReNzJQR"
      },
      "source": [
        "#@title converting the volume Millions - Number\n"
      ],
      "execution_count": null,
      "outputs": []
    },
    {
      "cell_type": "code",
      "metadata": {
        "id": "xthVudlESDTC"
      },
      "source": [
        "volume=[int(float(i)*1000000) for i in volume]\n"
      ],
      "execution_count": null,
      "outputs": []
    },
    {
      "cell_type": "code",
      "metadata": {
        "cellView": "form",
        "id": "TzpqSPTJzR2L"
      },
      "source": [
        "#@title Creating a dictionary for passing the data\n"
      ],
      "execution_count": null,
      "outputs": []
    },
    {
      "cell_type": "code",
      "metadata": {
        "id": "4zZAsUIcO1ZS"
      },
      "source": [
        "stock={}\n",
        "stock['Ticker']=ticket\n",
        "stock['Price']=price1\n",
        "stock['volume']=volume\n",
        "stock['PE_ratio']=ratio"
      ],
      "execution_count": null,
      "outputs": []
    },
    {
      "cell_type": "code",
      "metadata": {
        "cellView": "form",
        "id": "qUvTxDJrzatK"
      },
      "source": [
        "#@title Converting the dictionary data to dataframe"
      ],
      "execution_count": null,
      "outputs": []
    },
    {
      "cell_type": "code",
      "metadata": {
        "colab": {
          "base_uri": "https://localhost:8080/",
          "height": 359
        },
        "id": "Rscq2g28O-2j",
        "outputId": "c9b4ffef-1140-40da-9b07-7231a816e6e9"
      },
      "source": [
        "import pandas as pd\n",
        "data1=pd.DataFrame(stock)\n",
        "data1"
      ],
      "execution_count": null,
      "outputs": [
        {
          "output_type": "execute_result",
          "data": {
            "text/html": [
              "<div>\n",
              "<style scoped>\n",
              "    .dataframe tbody tr th:only-of-type {\n",
              "        vertical-align: middle;\n",
              "    }\n",
              "\n",
              "    .dataframe tbody tr th {\n",
              "        vertical-align: top;\n",
              "    }\n",
              "\n",
              "    .dataframe thead th {\n",
              "        text-align: right;\n",
              "    }\n",
              "</style>\n",
              "<table border=\"1\" class=\"dataframe\">\n",
              "  <thead>\n",
              "    <tr style=\"text-align: right;\">\n",
              "      <th></th>\n",
              "      <th>Ticker</th>\n",
              "      <th>Price</th>\n",
              "      <th>volume</th>\n",
              "      <th>PE_ratio</th>\n",
              "    </tr>\n",
              "  </thead>\n",
              "  <tbody>\n",
              "    <tr>\n",
              "      <th>0</th>\n",
              "      <td>CCL</td>\n",
              "      <td>17.95</td>\n",
              "      <td>29470000</td>\n",
              "      <td>-</td>\n",
              "    </tr>\n",
              "    <tr>\n",
              "      <th>1</th>\n",
              "      <td>PFE</td>\n",
              "      <td>54.00</td>\n",
              "      <td>35730000</td>\n",
              "      <td>16.03</td>\n",
              "    </tr>\n",
              "    <tr>\n",
              "      <th>2</th>\n",
              "      <td>BAC</td>\n",
              "      <td>45.76</td>\n",
              "      <td>41230000</td>\n",
              "      <td>13.71</td>\n",
              "    </tr>\n",
              "    <tr>\n",
              "      <th>3</th>\n",
              "      <td>F</td>\n",
              "      <td>19.75</td>\n",
              "      <td>102960000</td>\n",
              "      <td>28.02</td>\n",
              "    </tr>\n",
              "    <tr>\n",
              "      <th>4</th>\n",
              "      <td>NCLH</td>\n",
              "      <td>20.06</td>\n",
              "      <td>15790000</td>\n",
              "      <td>-</td>\n",
              "    </tr>\n",
              "    <tr>\n",
              "      <th>5</th>\n",
              "      <td>DAL</td>\n",
              "      <td>36.38</td>\n",
              "      <td>10880000</td>\n",
              "      <td>-</td>\n",
              "    </tr>\n",
              "    <tr>\n",
              "      <th>6</th>\n",
              "      <td>WFC</td>\n",
              "      <td>48.43</td>\n",
              "      <td>24980000</td>\n",
              "      <td>11.52</td>\n",
              "    </tr>\n",
              "    <tr>\n",
              "      <th>7</th>\n",
              "      <td>T</td>\n",
              "      <td>24.22</td>\n",
              "      <td>43440000</td>\n",
              "      <td>204.32</td>\n",
              "    </tr>\n",
              "    <tr>\n",
              "      <th>8</th>\n",
              "      <td>XOM</td>\n",
              "      <td>61.25</td>\n",
              "      <td>18670000</td>\n",
              "      <td>-</td>\n",
              "    </tr>\n",
              "    <tr>\n",
              "      <th>9</th>\n",
              "      <td>C</td>\n",
              "      <td>65.50</td>\n",
              "      <td>19310000</td>\n",
              "      <td>6.31</td>\n",
              "    </tr>\n",
              "  </tbody>\n",
              "</table>\n",
              "</div>"
            ],
            "text/plain": [
              "  Ticker  Price     volume PE_ratio\n",
              "0    CCL  17.95   29470000        -\n",
              "1    PFE  54.00   35730000    16.03\n",
              "2    BAC  45.76   41230000    13.71\n",
              "3      F  19.75  102960000    28.02\n",
              "4   NCLH  20.06   15790000        -\n",
              "5    DAL  36.38   10880000        -\n",
              "6    WFC  48.43   24980000    11.52\n",
              "7      T  24.22   43440000   204.32\n",
              "8    XOM  61.25   18670000        -\n",
              "9      C  65.50   19310000     6.31"
            ]
          },
          "metadata": {},
          "execution_count": 239
        }
      ]
    },
    {
      "cell_type": "code",
      "metadata": {
        "cellView": "form",
        "id": "fRISXHLyzm23"
      },
      "source": [
        "#@title Converting the dataframe to a csv file stocks.txt\n"
      ],
      "execution_count": null,
      "outputs": []
    },
    {
      "cell_type": "code",
      "metadata": {
        "id": "NKhlLOCiPq4o"
      },
      "source": [
        "#converting the whole data into csv and storing it into stocks.txt\n",
        "data1.to_csv(r'/content/stocks.txt',index=None)"
      ],
      "execution_count": null,
      "outputs": []
    },
    {
      "cell_type": "code",
      "metadata": {
        "colab": {
          "base_uri": "https://localhost:8080/",
          "height": 359
        },
        "id": "9JSE7m69RL7E",
        "outputId": "b0298b21-1978-4d87-af45-69b3cd530109"
      },
      "source": [
        "#Reading the file we created \n",
        "pd.read_csv('/content/stocks.txt')"
      ],
      "execution_count": null,
      "outputs": [
        {
          "output_type": "execute_result",
          "data": {
            "text/html": [
              "<div>\n",
              "<style scoped>\n",
              "    .dataframe tbody tr th:only-of-type {\n",
              "        vertical-align: middle;\n",
              "    }\n",
              "\n",
              "    .dataframe tbody tr th {\n",
              "        vertical-align: top;\n",
              "    }\n",
              "\n",
              "    .dataframe thead th {\n",
              "        text-align: right;\n",
              "    }\n",
              "</style>\n",
              "<table border=\"1\" class=\"dataframe\">\n",
              "  <thead>\n",
              "    <tr style=\"text-align: right;\">\n",
              "      <th></th>\n",
              "      <th>Ticker</th>\n",
              "      <th>Price</th>\n",
              "      <th>volume</th>\n",
              "      <th>PE_ratio</th>\n",
              "    </tr>\n",
              "  </thead>\n",
              "  <tbody>\n",
              "    <tr>\n",
              "      <th>0</th>\n",
              "      <td>CCL</td>\n",
              "      <td>17.95</td>\n",
              "      <td>29470000</td>\n",
              "      <td>-</td>\n",
              "    </tr>\n",
              "    <tr>\n",
              "      <th>1</th>\n",
              "      <td>PFE</td>\n",
              "      <td>54.00</td>\n",
              "      <td>35730000</td>\n",
              "      <td>16.03</td>\n",
              "    </tr>\n",
              "    <tr>\n",
              "      <th>2</th>\n",
              "      <td>BAC</td>\n",
              "      <td>45.76</td>\n",
              "      <td>41230000</td>\n",
              "      <td>13.71</td>\n",
              "    </tr>\n",
              "    <tr>\n",
              "      <th>3</th>\n",
              "      <td>F</td>\n",
              "      <td>19.75</td>\n",
              "      <td>102960000</td>\n",
              "      <td>28.02</td>\n",
              "    </tr>\n",
              "    <tr>\n",
              "      <th>4</th>\n",
              "      <td>NCLH</td>\n",
              "      <td>20.06</td>\n",
              "      <td>15790000</td>\n",
              "      <td>-</td>\n",
              "    </tr>\n",
              "    <tr>\n",
              "      <th>5</th>\n",
              "      <td>DAL</td>\n",
              "      <td>36.38</td>\n",
              "      <td>10880000</td>\n",
              "      <td>-</td>\n",
              "    </tr>\n",
              "    <tr>\n",
              "      <th>6</th>\n",
              "      <td>WFC</td>\n",
              "      <td>48.43</td>\n",
              "      <td>24980000</td>\n",
              "      <td>11.52</td>\n",
              "    </tr>\n",
              "    <tr>\n",
              "      <th>7</th>\n",
              "      <td>T</td>\n",
              "      <td>24.22</td>\n",
              "      <td>43440000</td>\n",
              "      <td>204.32</td>\n",
              "    </tr>\n",
              "    <tr>\n",
              "      <th>8</th>\n",
              "      <td>XOM</td>\n",
              "      <td>61.25</td>\n",
              "      <td>18670000</td>\n",
              "      <td>-</td>\n",
              "    </tr>\n",
              "    <tr>\n",
              "      <th>9</th>\n",
              "      <td>C</td>\n",
              "      <td>65.50</td>\n",
              "      <td>19310000</td>\n",
              "      <td>6.31</td>\n",
              "    </tr>\n",
              "  </tbody>\n",
              "</table>\n",
              "</div>"
            ],
            "text/plain": [
              "  Ticker  Price     volume PE_ratio\n",
              "0    CCL  17.95   29470000        -\n",
              "1    PFE  54.00   35730000    16.03\n",
              "2    BAC  45.76   41230000    13.71\n",
              "3      F  19.75  102960000    28.02\n",
              "4   NCLH  20.06   15790000        -\n",
              "5    DAL  36.38   10880000        -\n",
              "6    WFC  48.43   24980000    11.52\n",
              "7      T  24.22   43440000   204.32\n",
              "8    XOM  61.25   18670000        -\n",
              "9      C  65.50   19310000     6.31"
            ]
          },
          "metadata": {},
          "execution_count": 241
        }
      ]
    },
    {
      "cell_type": "code",
      "metadata": {
        "cellView": "form",
        "id": "-uN_4Bs8zxVH"
      },
      "source": [
        "#@title Creating the database \" stocksdatabase.db \" and table \" StocksTable \"\n"
      ],
      "execution_count": null,
      "outputs": []
    },
    {
      "cell_type": "code",
      "metadata": {
        "colab": {
          "base_uri": "https://localhost:8080/"
        },
        "id": "J-pv6nf3S7EV",
        "outputId": "71704d01-48fa-45d6-bad0-ffb91450f895"
      },
      "source": [
        "#Storing the data into database\n",
        "# Import module\n",
        "import sqlite3\n",
        "  \n",
        "# Connecting to sqlite\n",
        "conn = sqlite3.connect('stocksdatabase.db')\n",
        "  \n",
        "# Creating a cursor object using the \n",
        "# cursor() method\n",
        "cursor = conn.cursor()\n",
        "  \n",
        "# Creating table\n",
        "table =\"\"\"CREATE TABLE StocksTable (TICKER VARCHAR(255), PRICE REAL, VOLUME INTEGER, PE_RATIO REAL);\"\"\"\n",
        "cursor.execute(table)"
      ],
      "execution_count": null,
      "outputs": [
        {
          "output_type": "execute_result",
          "data": {
            "text/plain": [
              "<sqlite3.Cursor at 0x7fbaf0510b20>"
            ]
          },
          "metadata": {},
          "execution_count": 300
        }
      ]
    },
    {
      "cell_type": "code",
      "metadata": {
        "cellView": "form",
        "id": "2KcAVj5k0AsC"
      },
      "source": [
        "#@title Inserting the CSV data into the table \" StocksTable \".\n"
      ],
      "execution_count": null,
      "outputs": []
    },
    {
      "cell_type": "code",
      "metadata": {
        "id": "DzFEPsZ9TwAU"
      },
      "source": [
        "#Inserting the data into the table StocksTable\n",
        "\n",
        "with open(\"/content/stocks.txt\") as f:\n",
        "    lis = [line.split(',') for line in f]\n",
        "    for i in range(1,len(lis)):\n",
        "      cursor.execute('''INSERT INTO StocksTable VALUES (?, ?, ?, ?)''',(lis[i][0],lis[i][1],lis[i][2],lis[i][3]))\n",
        "      \n",
        "   \n"
      ],
      "execution_count": null,
      "outputs": []
    },
    {
      "cell_type": "code",
      "metadata": {
        "cellView": "form",
        "id": "hOXu8nGO0Mmc"
      },
      "source": [
        "#@title Viewing the data inside the table \" StocksTable \"\n"
      ],
      "execution_count": null,
      "outputs": []
    },
    {
      "cell_type": "code",
      "metadata": {
        "id": "c5euk9PMWsTR"
      },
      "source": [
        "#To view the data inside StocksTable\n",
        "data4=cursor.execute('''SELECT * FROM StocksTable''')"
      ],
      "execution_count": null,
      "outputs": []
    },
    {
      "cell_type": "code",
      "metadata": {
        "id": "f54uMYy1X8M2"
      },
      "source": [
        "#converting the tuple to list\n",
        "from tabulate import tabulate\n",
        "data3=[]\n",
        "for i in data4:\n",
        "  data3.append(list(i))"
      ],
      "execution_count": null,
      "outputs": []
    },
    {
      "cell_type": "code",
      "metadata": {
        "cellView": "form",
        "id": "2nmRJ5T90XpR"
      },
      "source": [
        "#@title Presenting the data into a tabular form using `tabulate` library"
      ],
      "execution_count": null,
      "outputs": []
    },
    {
      "cell_type": "code",
      "metadata": {
        "colab": {
          "base_uri": "https://localhost:8080/"
        },
        "id": "OC2CPFekfWat",
        "outputId": "b01e87a2-9b3f-4c8f-bd2d-567152ec8fdd"
      },
      "source": [
        "#printing the data \n",
        "print(tabulate(data3, headers=[\"Ticker\", \"Price\", \"Volume\", \"PE_Ratio\"]))"
      ],
      "execution_count": null,
      "outputs": [
        {
          "output_type": "stream",
          "name": "stdout",
          "text": [
            "Ticker      Price     Volume  PE_Ratio\n",
            "--------  -------  ---------  ----------\n",
            "CCL         17.95   29470000  -\n",
            "PFE         54      35730000  16.03\n",
            "BAC         45.76   41230000  13.71\n",
            "F           19.75  102960000  28.02\n",
            "NCLH        20.06   15790000  -\n",
            "DAL         36.38   10880000  -\n",
            "WFC         48.43   24980000  11.52\n",
            "T           24.22   43440000  204.32\n",
            "XOM         61.25   18670000  -\n",
            "C           65.5    19310000  6.31\n"
          ]
        }
      ]
    }
  ]
}